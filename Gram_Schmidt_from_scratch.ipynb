{
  "nbformat": 4,
  "nbformat_minor": 0,
  "metadata": {
    "colab": {
      "provenance": [],
      "authorship_tag": "ABX9TyPwJ7HC1BaXi3KSFl7Yc9/k",
      "include_colab_link": true
    },
    "kernelspec": {
      "name": "python3",
      "display_name": "Python 3"
    },
    "language_info": {
      "name": "python"
    }
  },
  "cells": [
    {
      "cell_type": "markdown",
      "metadata": {
        "id": "view-in-github",
        "colab_type": "text"
      },
      "source": [
        "<a href=\"https://colab.research.google.com/github/hwelti/Math-242/blob/main/Gram_Schmidt_from_scratch.ipynb\" target=\"_parent\"><img src=\"https://colab.research.google.com/assets/colab-badge.svg\" alt=\"Open In Colab\"/></a>"
      ]
    },
    {
      "cell_type": "code",
      "execution_count": 1,
      "metadata": {
        "id": "Blg9f86fMxFL"
      },
      "outputs": [],
      "source": [
        "import matplotlib.pyplot as plt\n",
        "from sympy import Poly\n",
        "import sympy as sym\n",
        "import numpy as np\n",
        "from numpy import c_"
      ]
    },
    {
      "cell_type": "code",
      "source": [
        "#Create a Vector\n",
        "r1 = np.matrix([[3],[0],[3],[0]])\n",
        "r1 = np.array([3,0,3,0])\n",
        "\n",
        "r1\n",
        "\n",
        "#Vector Arithmatic\n",
        "r1*3\n"
      ],
      "metadata": {
        "colab": {
          "base_uri": "https://localhost:8080/"
        },
        "id": "bT0-wuYuNSrX",
        "outputId": "a709fdc4-8135-46fe-e99c-35b2113080a7"
      },
      "execution_count": 8,
      "outputs": [
        {
          "output_type": "execute_result",
          "data": {
            "text/plain": [
              "array([9, 0, 9, 0])"
            ]
          },
          "metadata": {},
          "execution_count": 8
        }
      ]
    },
    {
      "cell_type": "code",
      "source": [
        "r1.dot(r1)"
      ],
      "metadata": {
        "colab": {
          "base_uri": "https://localhost:8080/"
        },
        "id": "oujPkvQtOXRs",
        "outputId": "9fc3456d-30f7-411d-cfde-8f18274366bd"
      },
      "execution_count": 6,
      "outputs": [
        {
          "output_type": "execute_result",
          "data": {
            "text/plain": [
              "18"
            ]
          },
          "metadata": {},
          "execution_count": 6
        }
      ]
    },
    {
      "cell_type": "markdown",
      "source": [
        "#Gram Schmidt Orthonormalization Process\n",
        "\n",
        "We'll use the Gram-Schmidt process to find the orthonormal vectors in $R^4$\n",
        "\n",
        "## Our \"Random Vectors\""
      ],
      "metadata": {
        "id": "J27h1E5UQKCp"
      }
    },
    {
      "cell_type": "code",
      "source": [
        "r1 = np.array([3,0,3,0])\n",
        "r2 = np.array([3,2,3,3])\n",
        "r3 = np.array([-7,-4,-5,-6])\n",
        "r4 = np.array([-7,-3,-11,2])\n"
      ],
      "metadata": {
        "id": "T74a6JRiQxII"
      },
      "execution_count": 13,
      "outputs": []
    },
    {
      "cell_type": "markdown",
      "source": [
        "##Process $r_1$ "
      ],
      "metadata": {
        "id": "GrmxMl9wRO68"
      }
    },
    {
      "cell_type": "code",
      "source": [
        "#Choose the vector and subtract off the \"nice\" orthagonal pieces:\n",
        "t1=r1\n",
        "#t1\n",
        "\n",
        "#Normalize t1:\n",
        "m=np.sqrt((t1.dot(t1)))\n",
        "\n",
        "#Create the Orthagonal Vector\n",
        "u1=t1*1/m\n",
        "\n",
        "print(u1)"
      ],
      "metadata": {
        "colab": {
          "base_uri": "https://localhost:8080/"
        },
        "id": "OrZvJsZ2RXp6",
        "outputId": "025a85e8-a822-4e29-f10d-ffe9682a926e"
      },
      "execution_count": 10,
      "outputs": [
        {
          "output_type": "stream",
          "name": "stdout",
          "text": [
            "[0.70710678 0.         0.70710678 0.        ]\n"
          ]
        }
      ]
    },
    {
      "cell_type": "markdown",
      "source": [
        "##Process $r_2$"
      ],
      "metadata": {
        "id": "YK6mXLtYSfAx"
      }
    },
    {
      "cell_type": "code",
      "source": [
        "#Choose the vector and subtract off the \"nice\" orthagonal pieces:\n",
        "t2=r2 - ((u1.dot(r2))*u1)\n",
        "#t1\n",
        "\n",
        "#Normalize t2:\n",
        "m=np.sqrt((t2.dot(t2)))\n",
        "\n",
        "#Create the Orthagonal Vector\n",
        "u2=t2*1/m\n",
        "\n",
        "print(u2)"
      ],
      "metadata": {
        "colab": {
          "base_uri": "https://localhost:8080/"
        },
        "id": "lCCWPBcfSjyW",
        "outputId": "47e74233-d230-4663-a7a0-dcecf1778189"
      },
      "execution_count": 18,
      "outputs": [
        {
          "output_type": "stream",
          "name": "stdout",
          "text": [
            "[-1.23168186e-16  5.54700196e-01 -1.23168186e-16  8.32050294e-01]\n"
          ]
        }
      ]
    },
    {
      "cell_type": "code",
      "source": [
        "# esentially: [0, 0.55,0,0.83]\n",
        "#Should be [0,2/sqrt(13),0,3/sqrt(13)]"
      ],
      "metadata": {
        "id": "S-cjHDvaTjFk"
      },
      "execution_count": null,
      "outputs": []
    },
    {
      "cell_type": "markdown",
      "source": [
        "##Process $r_3$\n"
      ],
      "metadata": {
        "id": "CA3t39gbT-2w"
      }
    },
    {
      "cell_type": "code",
      "source": [
        "#Choose the vector and subtract off the \"nice\" orthagonal pieces:\n",
        "t3=r3 - ((u1.dot(r3))*u1)-((u2.dot(r3))*u2)\n",
        "#t1\n",
        "\n",
        "#Normalize t3:\n",
        "m=np.sqrt((t3.dot(t3)))\n",
        "\n",
        "#Create the Orthagonal Vector\n",
        "u3=t3*1/m\n",
        "\n",
        "print(u3)"
      ],
      "metadata": {
        "colab": {
          "base_uri": "https://localhost:8080/"
        },
        "id": "p5aNEf8EUD-W",
        "outputId": "1b778630-8911-413c-eff7-1135c1d3758c"
      },
      "execution_count": 19,
      "outputs": [
        {
          "output_type": "stream",
          "name": "stdout",
          "text": [
            "[-7.07106781e-01 -3.14018492e-16  7.07106781e-01 -6.28036983e-16]\n"
          ]
        }
      ]
    },
    {
      "cell_type": "markdown",
      "source": [],
      "metadata": {
        "id": "A6ZZB0VyUkKP"
      }
    },
    {
      "cell_type": "markdown",
      "source": [
        "##Process $r_4$"
      ],
      "metadata": {
        "id": "h37BWvbnUkNp"
      }
    },
    {
      "cell_type": "code",
      "source": [
        "#Choose the vector and subtract off the \"nice\" orthagonal pieces:\n",
        "t4=r4 - ((u1.dot(r4))*u1)-((u2.dot(r4))*u2)-((u3.dot(r4))*u3)\n",
        "#t1\n",
        "\n",
        "#Normalize t4:\n",
        "m=np.sqrt((t4.dot(t4)))\n",
        "\n",
        "#Create the Orthagonal Vector\n",
        "u4=t4*1/m\n",
        "\n",
        "print(u4)"
      ],
      "metadata": {
        "colab": {
          "base_uri": "https://localhost:8080/"
        },
        "id": "z65KOQXaUpW6",
        "outputId": "f68e91b1-9b4a-49e0-9806-089982833e48"
      },
      "execution_count": 20,
      "outputs": [
        {
          "output_type": "stream",
          "name": "stdout",
          "text": [
            "[ 0.         -0.83205029  0.          0.5547002 ]\n"
          ]
        }
      ]
    },
    {
      "cell_type": "code",
      "source": [],
      "metadata": {
        "id": "th5adXNVWQfL"
      },
      "execution_count": null,
      "outputs": []
    }
  ]
}